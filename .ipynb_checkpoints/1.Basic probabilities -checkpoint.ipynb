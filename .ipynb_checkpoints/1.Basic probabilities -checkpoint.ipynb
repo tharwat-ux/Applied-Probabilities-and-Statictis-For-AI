{
 "cells": [
  {
   "cell_type": "markdown",
   "id": "bba52b9d-5c08-4d7a-9fdd-1933b11280b7",
   "metadata": {},
   "source": [
    "## definition"
   ]
  },
  {
   "cell_type": "code",
   "execution_count": 111,
   "id": "85d0e0fe-f114-4c09-831a-988e44296f69",
   "metadata": {},
   "outputs": [],
   "source": [
    "# probability : how likely an event to occur [0,1]\n",
    "# p(A) = Number of outcomes in A / sample space\n",
    "# Sample space = all possible outcomes "
   ]
  },
  {
   "cell_type": "code",
   "execution_count": 112,
   "id": "022cfb94-268b-4ab2-9ebf-0a3be90fbb94",
   "metadata": {},
   "outputs": [
    {
     "name": "stdout",
     "output_type": "stream",
     "text": [
      "Probability of even number = 0.5\n"
     ]
    }
   ],
   "source": [
    "from matplotlib_venn import venn3\n",
    "import matplotlib.pyplot as plt\n",
    "\n",
    "# Suppose you roll a fair six-sided die. \n",
    "\n",
    "Sample_space = {1, 2, 3, 4, 5, 6}\n",
    "even_space = {x for x in Sample_space if x % 2 == 0}\n",
    "odd_space = {x for x in Sample_space if x % 2 == 1}\n",
    "divisble_by_3_space = {x for x in Sample_space if x > 4}\n",
    "\n",
    "# Probabilities\n",
    "p_even = len(even_space) / len(Sample_space)\n",
    "p_odd = len(odd_space) / len(Sample_space)\n",
    "p_divisble_by_3 = len(divisble_by_3_space) / len(Sample_space)\n",
    "print(f\"Probability of even number = {p_even}\")"
   ]
  },
  {
   "cell_type": "code",
   "execution_count": null,
   "id": "115b2c20-4d6b-4ba1-811f-6a4fd46bff2f",
   "metadata": {},
   "outputs": [],
   "source": []
  },
  {
   "cell_type": "markdown",
   "id": "5e41fee1-3343-4cc1-93cc-05e136ea0d3a",
   "metadata": {},
   "source": [
    "## Probabilities Rules"
   ]
  },
  {
   "cell_type": "code",
   "execution_count": 113,
   "id": "8529d47d-bad4-4f7b-9303-5459a324949a",
   "metadata": {},
   "outputs": [],
   "source": [
    "# Σ(Exhaustive Events) = 1        Exhaustive Events means events that cover all the sample space\n",
    "Exhaustive_Events = p_even + p_odd\n",
    "\n",
    "# P(A′)=1−P(A)\n",
    "p_even_compliment = 1 - p_even\n",
    "\n",
    "# Multiplication rule (joint) => independent:P(A∩B)=p(A)*p(B) --- dependent:conditional probability\n",
    "p_even_AND_divisble_by_3=p_even*p_divisble_by_3               #independent\n",
    "validation_AND = len(even_space&divisble_by_3_space)/len(Sample_space) \n",
    "p_even_AND_odd = len(even_space&odd_space)/len(Sample_space)          # 0 -> mutually exclusive means no intersection\n",
    "\n",
    "# addition rule => P(A∪B)=P(A)+P(B)−P(A∩B)\n",
    "p_even_OR_divisble_by_3 = p_even + p_divisble_by_3 - p_even_AND_divisble_by_3\n",
    "validation_OR = len(even_space|divisble_by_3_space)/len(Sample_space) \n"
   ]
  },
  {
   "cell_type": "code",
   "execution_count": null,
   "id": "031cab48-3684-457b-a334-71629bb68b1e",
   "metadata": {},
   "outputs": [],
   "source": []
  },
  {
   "cell_type": "markdown",
   "id": "71e4f5af-7f46-414f-b074-b4625e2f5b8d",
   "metadata": {},
   "source": [
    "## Random variables"
   ]
  },
  {
   "cell_type": "code",
   "execution_count": 114,
   "id": "497f5e28-fde4-4628-8256-2519d0d3bb4f",
   "metadata": {},
   "outputs": [
    {
     "name": "stdout",
     "output_type": "stream",
     "text": [
      "Discrete Example: {0, 1, 2, 3}\n",
      "Continuous Example: X ∈ [150, 200] cm\n"
     ]
    }
   ],
   "source": [
    "# A random variable (RV) is a variable that represents the outcome of a random experiment (Instead of saying \"the die shows 3\", we say “X = 3”.)\n",
    "# =============TYPES================\n",
    "# Discrete Random Variable => Takes on a COUNTABLE number of possible values.\n",
    "\n",
    "# Example: Number of heads in 3 coin tosses\n",
    "head_3_tosses = {0, 1, 2, 3}  # X can be 0, 1, 2, or 3 heads\n",
    "\n",
    "# Continuous Random Variable => Takes on an UNCOUNTABLE (infinite) number of values.\n",
    "# Example: The time it takes to download a file, or the height of a person.\n",
    "height_range = \"X ∈ [150, 200] cm\"  # X can be any real value between 150 and 200\n",
    "\n",
    "\n",
    "print(\"Discrete Example:\", head_3_tosses)\n",
    "print(\"Continuous Example:\", height_range)\n"
   ]
  },
  {
   "cell_type": "code",
   "execution_count": null,
   "id": "b51f3af6-460a-4c00-bf3d-90643b601931",
   "metadata": {},
   "outputs": [],
   "source": []
  },
  {
   "cell_type": "markdown",
   "id": "7964e45d-0d7e-43b3-b028-fd71cb010dca",
   "metadata": {},
   "source": [
    "## conditional probability"
   ]
  },
  {
   "cell_type": "code",
   "execution_count": 115,
   "id": "259087d2-a499-43f5-a77a-15ca8503e128",
   "metadata": {},
   "outputs": [],
   "source": [
    "# Conditional probability is the probability of an event 𝐴 occurring given that another event 𝐵 has already occurred.\n",
    "# P(A|B) = P(A∩B) / P(B)   \n",
    "# in case of mutually exclusive -> p(A∩B)=0 -> P(A|B)=0\n",
    "#            dependent -> p(A∩B)=p(A)*p(B) ->P(A|B)=p(A)\n",
    "\n",
    "#--------------------Example---------------------#\n",
    "#calc probability of (card being 4) given (it's red)\n",
    "P_four_given_red = (2/52) / (1/2)"
   ]
  },
  {
   "cell_type": "code",
   "execution_count": null,
   "id": "b727723b-9a08-4969-a4fe-9ed4f088c17e",
   "metadata": {},
   "outputs": [],
   "source": []
  },
  {
   "cell_type": "markdown",
   "id": "8c134d5e-f30f-4c16-99f9-752708190313",
   "metadata": {},
   "source": [
    "## summary of 3 types of probabilities"
   ]
  },
  {
   "cell_type": "markdown",
   "id": "6fd7c786-9452-4226-80b9-ef728203e9f0",
   "metadata": {},
   "source": [
    "two nearby cities are observed for weather status and these results were recorded\n",
    "<img src=\"data/obsrevations.png\" alt=\"My Image\" width=\"570\"/>"
   ]
  },
  {
   "cell_type": "code",
   "execution_count": 7,
   "id": "d70886f5-f2bc-4b98-aac4-18ee2c3385a4",
   "metadata": {},
   "outputs": [
    {
     "data": {
      "text/plain": [
       "''"
      ]
     },
     "execution_count": 7,
     "metadata": {},
     "output_type": "execute_result"
    }
   ],
   "source": [
    "# marginal => Probability of a single event regardless of others\n",
    "# example : probability of city A being sunny = 6/20 + 2/20 = 8/20 \n",
    "#--------------------------------------------------------------------\n",
    "# joint => Probability of two (or more) events happening together\n",
    "# example : probability of city A and B being cloudy = 5/20 \n",
    "#--------------------------------------------------------------------\n",
    "# conditional => Probability event occurance given than other already happened\n",
    "# example : probability of city A being cloudy given B is cloudy = p (joint) / p(B=cloudy) = (5/20) /(8/20) = 5/8"
   ]
  },
  {
   "cell_type": "code",
   "execution_count": null,
   "id": "ac998b6c-40db-4f85-be3c-a8b2c3d15f3f",
   "metadata": {},
   "outputs": [],
   "source": []
  },
  {
   "cell_type": "markdown",
   "id": "8e7fdb07-a40b-41b5-99f3-649b4a8dffd3",
   "metadata": {},
   "source": [
    "## bayes' theorm"
   ]
  },
  {
   "cell_type": "code",
   "execution_count": null,
   "id": "be90979d-6491-423b-811a-88849d9a2a4a",
   "metadata": {},
   "outputs": [],
   "source": [
    "# If you know 𝑃(𝐴∣𝐵) (probability of A given B), you can also compute 𝑃(𝐵∣𝐴) or vice versa.-> revere probability\n",
    "# P(A∣B)=( P(A) * P(B∣A) )/ P(B)\n",
    "    "
   ]
  },
  {
   "cell_type": "code",
   "execution_count": 10,
   "id": "6b2471d3-c520-4ee1-ac6e-335acf0e5633",
   "metadata": {},
   "outputs": [],
   "source": [
    "# famous application : NAIVE BAYES' Algorithim -> update out beliefs when we get additional information\n",
    "\"\"\" Prior - P(A) -> Your initial belief about the probability of an event before seeing any new evidence.\n",
    "    Evidence - p(B) -> evidence\n",
    "    Likelihood - P(B∣A) -> How likely the observed evidence is, assuming the event is true.\n",
    "    Posterior - P(A|B) -> Your updated guess after seeing the clouds.\n",
    "\"\"\"\n",
    "spam_detection = [0,1]"
   ]
  },
  {
   "cell_type": "code",
   "execution_count": null,
   "id": "c44e5d5e-d1eb-41e4-abd0-426b5c3cf055",
   "metadata": {},
   "outputs": [],
   "source": []
  }
 ],
 "metadata": {
  "kernelspec": {
   "display_name": "Python 3 (ipykernel)",
   "language": "python",
   "name": "python3"
  },
  "language_info": {
   "codemirror_mode": {
    "name": "ipython",
    "version": 3
   },
   "file_extension": ".py",
   "mimetype": "text/x-python",
   "name": "python",
   "nbconvert_exporter": "python",
   "pygments_lexer": "ipython3",
   "version": "3.12.7"
  }
 },
 "nbformat": 4,
 "nbformat_minor": 5
}
