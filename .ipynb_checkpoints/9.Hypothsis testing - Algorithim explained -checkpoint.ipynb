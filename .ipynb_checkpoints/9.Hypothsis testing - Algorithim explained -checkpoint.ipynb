{
 "cells": [
  {
   "cell_type": "markdown",
   "id": "56f8172e-cc0a-43b4-ad7f-63f206acadcf",
   "metadata": {},
   "source": [
    "#  Hypothesis Testing "
   ]
  },
  {
   "cell_type": "markdown",
   "id": "a0eef074-a95a-4c8d-a519-746f9549ddbd",
   "metadata": {},
   "source": [
    "Hypothesis testing is a statistical procedure used to decide whether the data you have (a sample) provides enough evidence to support or reject a claim (a hypothesis) about the population."
   ]
  },
  {
   "cell_type": "markdown",
   "id": "5ca7fb3d-36a2-442b-8845-6670f9106f58",
   "metadata": {},
   "source": [
    "# Univariate Hypothesis Testing Algorithim"
   ]
  },
  {
   "cell_type": "markdown",
   "id": "f73c932e-47bc-4eca-9a34-80e33e111ffa",
   "metadata": {},
   "source": [
    "You compare a single sample against a known value or population parameter to check if the sample differs significantly from the assumed value.."
   ]
  },
  {
   "cell_type": "markdown",
   "id": "5260bd24-796e-464a-84f4-8e9d0da9cb98",
   "metadata": {},
   "source": [
    "### idea of the algorithim\n"
   ]
  },
  {
   "cell_type": "markdown",
   "id": "0e0a4460-cd02-42ed-94be-f2f633e6d7b5",
   "metadata": {},
   "source": [
    "You set up two opposite statements, calculate a test statistic from the sample, and decide — based on probability — whether to reject or fail to reject the null hypothesis.\n",
    "null hypothesis Ho=>assumption of no difference  \n",
    "Alternative Hypothesis H₁ => What you want to test or prove"
   ]
  },
  {
   "cell_type": "markdown",
   "id": "f63bc7fd-b169-4244-a8b7-96110a2a2ede",
   "metadata": {},
   "source": [
    "### Example"
   ]
  },
  {
   "cell_type": "markdown",
   "id": "340ff44d-2665-48e0-936c-2be7d4f8757f",
   "metadata": {},
   "source": [
    "We want to test if a coin is fair, meaning it has a 50% chance of landing heads but you have a doubt to be unfair with p(H) > 0.5 ."
   ]
  },
  {
   "cell_type": "markdown",
   "id": "12bab364-9bc7-408d-9079-3a6499cad7da",
   "metadata": {},
   "source": [
    "### steps"
   ]
  },
  {
   "cell_type": "markdown",
   "id": "26472d56-f3f4-475f-b52e-fd54f3b8cfc2",
   "metadata": {},
   "source": [
    "##### 1 - State the hypothesis  \n",
    "Ho : P(H) <= 0.5  \n",
    "H1 : P(H) > 0.5  \n",
    "α = 0.05"
   ]
  },
  {
   "cell_type": "code",
   "execution_count": 1,
   "id": "84a1993e-ef4c-4c61-80de-12936f9e26cc",
   "metadata": {},
   "outputs": [],
   "source": [
    "alpha = 0.05        # will be discussed later"
   ]
  },
  {
   "cell_type": "markdown",
   "id": "ec76b7f4-c044-4b82-9803-dd9c78b3d0af",
   "metadata": {},
   "source": [
    "##### 2 - Collect the sample"
   ]
  },
  {
   "cell_type": "code",
   "execution_count": 2,
   "id": "276110e1-7f01-4395-baf2-dfa34335179a",
   "metadata": {},
   "outputs": [],
   "source": [
    "import numpy as np\n",
    "from scipy.stats import norm\n",
    "p=0.6\n",
    "sample = np.random.binomial(n=1,p=p,size=1000)\n",
    "P_=np.mean(sample)\n"
   ]
  },
  {
   "cell_type": "markdown",
   "id": "2821b960-c9c7-440c-b107-a7de0d8e9e29",
   "metadata": {},
   "source": [
    "##### 3- Choose the test\n",
    "we can use Z test as this is bernolli distribution hence we can know the variance of the distribution  \n"
   ]
  },
  {
   "cell_type": "markdown",
   "id": "5ecd0020-591e-4120-a144-c88556d13f8e",
   "metadata": {},
   "source": [
    "##### 4-Compute the test\n",
    "population variance = p * (1-p) ---- 'bernoulli'  \n",
    "sample_varience = population vaience / n   \n",
    "standard error = sqrt (population variance)  \n",
    "Z value = P_-Po / Standard Error"
   ]
  },
  {
   "cell_type": "code",
   "execution_count": 3,
   "id": "2af5a34c-885e-49fa-8beb-53fe8f3eadbc",
   "metadata": {},
   "outputs": [],
   "source": [
    "population_variance = 0.5 * (1-0.5)\n",
    "sample_varience = population_variance / len(sample)\n",
    "standard_error=np.sqrt(sample_varience)\n",
    "Z_value = (P_ - 0.5) / standard_error"
   ]
  },
  {
   "cell_type": "markdown",
   "id": "3ec79828-854b-4b6c-ad21-6e64a3cb5cb9",
   "metadata": {},
   "source": [
    "##### compute the result\n",
    "compare Z value to Z critical (ppf(1-α))  \n",
    "OR  \n",
    "calculate P_value (1-cdf(P_value)) and compare it to α  \n",
    "Z value  > Z critical  OR   P_value < α  --> reject Ho (that means the probability of H0 happenning is too small)"
   ]
  },
  {
   "cell_type": "code",
   "execution_count": 4,
   "id": "6b12823e-af2f-469e-b40d-4e8c2d9cf2ec",
   "metadata": {},
   "outputs": [
    {
     "name": "stdout",
     "output_type": "stream",
     "text": [
      "Reject Ho\n"
     ]
    }
   ],
   "source": [
    "Z_critical = norm.ppf(1-alpha)\n",
    "P_value = 1-norm.cdf(Z_value)\n",
    "if (P_value<alpha):\n",
    "    print (\"Reject Ho\")"
   ]
  },
  {
   "cell_type": "markdown",
   "id": "f3206dd8-561e-4148-99c6-aa1800eb3f09",
   "metadata": {},
   "source": [
    "### Important Note\n",
    "we used Z test because we knew the population variance p(1-p) -- if we didn't we use T test with the same steps  (OR any suitable test)   \n",
    "that will be discussed more detailed in the next lab"
   ]
  },
  {
   "cell_type": "code",
   "execution_count": null,
   "id": "73a160da-961f-414e-baf5-f27bdda42d5e",
   "metadata": {},
   "outputs": [],
   "source": []
  },
  {
   "cell_type": "code",
   "execution_count": null,
   "id": "6e204856-00c3-4b03-a80d-7530d41d089c",
   "metadata": {},
   "outputs": [],
   "source": []
  },
  {
   "cell_type": "markdown",
   "id": "5d1ea644-0ae8-4b4b-abb4-18161a6f85f6",
   "metadata": {},
   "source": [
    "# multivariate Hypothesis Testing Algorithim"
   ]
  },
  {
   "cell_type": "markdown",
   "id": "95358a50-157d-431f-bc01-cf1f3f49059b",
   "metadata": {},
   "source": [
    "Tests multiple dependent variables simultaneously to see if there is a combined effect of multiple variables on the outcomes.  \n",
    "Example : Does gender + class + age affect survival on Titanic? .. Comparing the means of several variables (height, weight, temperature) across groups."
   ]
  },
  {
   "cell_type": "markdown",
   "id": "d8abec16-5156-429d-952f-3b3c4ca9e579",
   "metadata": {},
   "source": [
    "### idea of the algorithim"
   ]
  },
  {
   "cell_type": "markdown",
   "id": "58589b3b-2868-4eef-8e36-e67af0eb24d6",
   "metadata": {},
   "source": [
    "the previous algorithim is also valid for the the multivariante hypothesis testing except for:  \n",
    "we test the difference between two samples so all the calculations is applied on the difference or proporion between the two samples as that   \n",
    "Mean difference = M sample_a - M sample_b  \n",
    "variance differnce of the sampling distribution = var sampling distribution sample_a + var sampling distribution  sample_b  \n",
    "S.E = sqrt(variance differnce)  \n",
    "confidence interval = Mean difference ± z * S.E  \n",
    "and rest of the steps all applicable \"\" when test no diffirence hypothesis Zvalue = (Mean difference - 0 )/S.E \"\""
   ]
  },
  {
   "cell_type": "code",
   "execution_count": null,
   "id": "69f619b7-1e1d-49f7-9bff-04381bfee02e",
   "metadata": {},
   "outputs": [],
   "source": []
  },
  {
   "cell_type": "code",
   "execution_count": null,
   "id": "1b347eef-9bb0-4c6e-a9a7-633df88584bd",
   "metadata": {},
   "outputs": [],
   "source": []
  },
  {
   "cell_type": "code",
   "execution_count": null,
   "id": "beb5b778-c92e-4fdf-a06b-e4e9922d2091",
   "metadata": {},
   "outputs": [],
   "source": [
    "# -------------------------relation with CI-----------------------------\n",
    "# Hypothesis Testing : Goal: Decide whether there is enough evidence to reject a null hypothesis 𝐻0\n",
    "      # Hypothesis testing doesn’t tell you “where” the true mean is, only whether the data is consistent with H₀.\n",
    "# Confidence Interval :Give a range of plausible values for the parameter (mean, proportion, etc.) with a certain confidence level (e.g., 95%).\n"
   ]
  },
  {
   "cell_type": "code",
   "execution_count": null,
   "id": "6e376863-58de-4324-b5d5-cbe16900c867",
   "metadata": {},
   "outputs": [],
   "source": []
  },
  {
   "cell_type": "code",
   "execution_count": null,
   "id": "3e4b0f46-e9d0-410b-b2dc-f732ef3387a7",
   "metadata": {},
   "outputs": [],
   "source": []
  },
  {
   "cell_type": "code",
   "execution_count": null,
   "id": "8838a277-092d-4d6f-843a-eebeaedd8034",
   "metadata": {},
   "outputs": [],
   "source": []
  },
  {
   "cell_type": "code",
   "execution_count": null,
   "id": "57fe43f8-7349-4a0b-8299-83c9f79407af",
   "metadata": {},
   "outputs": [],
   "source": []
  },
  {
   "cell_type": "code",
   "execution_count": null,
   "id": "823780cd-090d-46ec-a0a2-befcbb15f65d",
   "metadata": {},
   "outputs": [],
   "source": []
  },
  {
   "cell_type": "code",
   "execution_count": null,
   "id": "bd55aa18-41ba-4e68-a7c0-701b64884ba3",
   "metadata": {},
   "outputs": [],
   "source": []
  }
 ],
 "metadata": {
  "kernelspec": {
   "display_name": "Python 3 (ipykernel)",
   "language": "python",
   "name": "python3"
  },
  "language_info": {
   "codemirror_mode": {
    "name": "ipython",
    "version": 3
   },
   "file_extension": ".py",
   "mimetype": "text/x-python",
   "name": "python",
   "nbconvert_exporter": "python",
   "pygments_lexer": "ipython3",
   "version": "3.12.7"
  }
 },
 "nbformat": 4,
 "nbformat_minor": 5
}
