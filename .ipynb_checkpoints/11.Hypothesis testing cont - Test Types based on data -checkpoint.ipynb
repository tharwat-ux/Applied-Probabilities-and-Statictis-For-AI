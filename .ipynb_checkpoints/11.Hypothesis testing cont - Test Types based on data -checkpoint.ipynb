{
 "cells": [
  {
   "cell_type": "markdown",
   "id": "55aad780-db26-43d8-9ef4-5f415bbbb9b1",
   "metadata": {},
   "source": [
    "# preparing our Data"
   ]
  },
  {
   "cell_type": "code",
   "execution_count": 25,
   "id": "bffb1b9e-21c4-404f-a382-ad62c5dd9ef9",
   "metadata": {},
   "outputs": [
    {
     "data": {
      "text/html": [
       "<div>\n",
       "<style scoped>\n",
       "    .dataframe tbody tr th:only-of-type {\n",
       "        vertical-align: middle;\n",
       "    }\n",
       "\n",
       "    .dataframe tbody tr th {\n",
       "        vertical-align: top;\n",
       "    }\n",
       "\n",
       "    .dataframe thead th {\n",
       "        text-align: right;\n",
       "    }\n",
       "</style>\n",
       "<table border=\"1\" class=\"dataframe\">\n",
       "  <thead>\n",
       "    <tr style=\"text-align: right;\">\n",
       "      <th></th>\n",
       "      <th>survived</th>\n",
       "      <th>pclass</th>\n",
       "      <th>sex</th>\n",
       "      <th>age</th>\n",
       "      <th>sibsp</th>\n",
       "      <th>parch</th>\n",
       "      <th>fare</th>\n",
       "      <th>embarked</th>\n",
       "      <th>class</th>\n",
       "      <th>who</th>\n",
       "      <th>adult_male</th>\n",
       "      <th>embark_town</th>\n",
       "      <th>alive</th>\n",
       "      <th>alone</th>\n",
       "    </tr>\n",
       "  </thead>\n",
       "  <tbody>\n",
       "    <tr>\n",
       "      <th>0</th>\n",
       "      <td>0</td>\n",
       "      <td>3</td>\n",
       "      <td>male</td>\n",
       "      <td>22.0</td>\n",
       "      <td>1</td>\n",
       "      <td>0</td>\n",
       "      <td>7.2500</td>\n",
       "      <td>S</td>\n",
       "      <td>Third</td>\n",
       "      <td>man</td>\n",
       "      <td>True</td>\n",
       "      <td>Southampton</td>\n",
       "      <td>no</td>\n",
       "      <td>False</td>\n",
       "    </tr>\n",
       "    <tr>\n",
       "      <th>1</th>\n",
       "      <td>1</td>\n",
       "      <td>1</td>\n",
       "      <td>female</td>\n",
       "      <td>38.0</td>\n",
       "      <td>1</td>\n",
       "      <td>0</td>\n",
       "      <td>71.2833</td>\n",
       "      <td>C</td>\n",
       "      <td>First</td>\n",
       "      <td>woman</td>\n",
       "      <td>False</td>\n",
       "      <td>Cherbourg</td>\n",
       "      <td>yes</td>\n",
       "      <td>False</td>\n",
       "    </tr>\n",
       "    <tr>\n",
       "      <th>2</th>\n",
       "      <td>1</td>\n",
       "      <td>3</td>\n",
       "      <td>female</td>\n",
       "      <td>26.0</td>\n",
       "      <td>0</td>\n",
       "      <td>0</td>\n",
       "      <td>7.9250</td>\n",
       "      <td>S</td>\n",
       "      <td>Third</td>\n",
       "      <td>woman</td>\n",
       "      <td>False</td>\n",
       "      <td>Southampton</td>\n",
       "      <td>yes</td>\n",
       "      <td>True</td>\n",
       "    </tr>\n",
       "    <tr>\n",
       "      <th>3</th>\n",
       "      <td>1</td>\n",
       "      <td>1</td>\n",
       "      <td>female</td>\n",
       "      <td>35.0</td>\n",
       "      <td>1</td>\n",
       "      <td>0</td>\n",
       "      <td>53.1000</td>\n",
       "      <td>S</td>\n",
       "      <td>First</td>\n",
       "      <td>woman</td>\n",
       "      <td>False</td>\n",
       "      <td>Southampton</td>\n",
       "      <td>yes</td>\n",
       "      <td>False</td>\n",
       "    </tr>\n",
       "    <tr>\n",
       "      <th>4</th>\n",
       "      <td>0</td>\n",
       "      <td>3</td>\n",
       "      <td>male</td>\n",
       "      <td>35.0</td>\n",
       "      <td>0</td>\n",
       "      <td>0</td>\n",
       "      <td>8.0500</td>\n",
       "      <td>S</td>\n",
       "      <td>Third</td>\n",
       "      <td>man</td>\n",
       "      <td>True</td>\n",
       "      <td>Southampton</td>\n",
       "      <td>no</td>\n",
       "      <td>True</td>\n",
       "    </tr>\n",
       "  </tbody>\n",
       "</table>\n",
       "</div>"
      ],
      "text/plain": [
       "   survived  pclass     sex   age  sibsp  parch     fare embarked  class  \\\n",
       "0         0       3    male  22.0      1      0   7.2500        S  Third   \n",
       "1         1       1  female  38.0      1      0  71.2833        C  First   \n",
       "2         1       3  female  26.0      0      0   7.9250        S  Third   \n",
       "3         1       1  female  35.0      1      0  53.1000        S  First   \n",
       "4         0       3    male  35.0      0      0   8.0500        S  Third   \n",
       "\n",
       "     who  adult_male  embark_town alive  alone  \n",
       "0    man        True  Southampton    no  False  \n",
       "1  woman       False    Cherbourg   yes  False  \n",
       "2  woman       False  Southampton   yes   True  \n",
       "3  woman       False  Southampton   yes  False  \n",
       "4    man        True  Southampton    no   True  "
      ]
     },
     "execution_count": 25,
     "metadata": {},
     "output_type": "execute_result"
    }
   ],
   "source": [
    "import seaborn as sns\n",
    "import pandas as pd\n",
    "sns.set_style(\"darkgrid\")\n",
    "titanic = sns.load_dataset('titanic')\n",
    "titanic = titanic.drop(columns=['deck'])\n",
    "titanic = titanic.dropna(subset=['age'])\n",
    "titanic['embarked']=titanic['embarked'].fillna(titanic['embarked'].mode()[0])\n",
    "titanic['embark_town']=titanic['embark_town'].fillna(titanic['embark_town'].mode()[0])\n",
    "titanic.head()"
   ]
  },
  {
   "cell_type": "code",
   "execution_count": 26,
   "id": "be070d0c-c8e4-4233-bac1-52850a08d112",
   "metadata": {},
   "outputs": [
    {
     "name": "stdout",
     "output_type": "stream",
     "text": [
      "Diet\n",
      "2    27\n",
      "3    27\n",
      "1    24\n",
      "Name: count, dtype: int64\n"
     ]
    },
    {
     "data": {
      "text/html": [
       "<div>\n",
       "<style scoped>\n",
       "    .dataframe tbody tr th:only-of-type {\n",
       "        vertical-align: middle;\n",
       "    }\n",
       "\n",
       "    .dataframe tbody tr th {\n",
       "        vertical-align: top;\n",
       "    }\n",
       "\n",
       "    .dataframe thead th {\n",
       "        text-align: right;\n",
       "    }\n",
       "</style>\n",
       "<table border=\"1\" class=\"dataframe\">\n",
       "  <thead>\n",
       "    <tr style=\"text-align: right;\">\n",
       "      <th></th>\n",
       "      <th>Person</th>\n",
       "      <th>gender</th>\n",
       "      <th>Age</th>\n",
       "      <th>Height</th>\n",
       "      <th>pre.weight</th>\n",
       "      <th>Diet</th>\n",
       "      <th>weight6weeks</th>\n",
       "    </tr>\n",
       "  </thead>\n",
       "  <tbody>\n",
       "    <tr>\n",
       "      <th>0</th>\n",
       "      <td>25</td>\n",
       "      <td>0</td>\n",
       "      <td>41</td>\n",
       "      <td>171</td>\n",
       "      <td>60</td>\n",
       "      <td>Diet 1</td>\n",
       "      <td>60.0</td>\n",
       "    </tr>\n",
       "    <tr>\n",
       "      <th>1</th>\n",
       "      <td>26</td>\n",
       "      <td>0</td>\n",
       "      <td>32</td>\n",
       "      <td>174</td>\n",
       "      <td>103</td>\n",
       "      <td>Diet 1</td>\n",
       "      <td>103.0</td>\n",
       "    </tr>\n",
       "    <tr>\n",
       "      <th>2</th>\n",
       "      <td>1</td>\n",
       "      <td>0</td>\n",
       "      <td>22</td>\n",
       "      <td>159</td>\n",
       "      <td>58</td>\n",
       "      <td>No Diet</td>\n",
       "      <td>57.7</td>\n",
       "    </tr>\n",
       "    <tr>\n",
       "      <th>3</th>\n",
       "      <td>2</td>\n",
       "      <td>0</td>\n",
       "      <td>46</td>\n",
       "      <td>192</td>\n",
       "      <td>60</td>\n",
       "      <td>No Diet</td>\n",
       "      <td>59.4</td>\n",
       "    </tr>\n",
       "    <tr>\n",
       "      <th>4</th>\n",
       "      <td>3</td>\n",
       "      <td>0</td>\n",
       "      <td>55</td>\n",
       "      <td>170</td>\n",
       "      <td>64</td>\n",
       "      <td>No Diet</td>\n",
       "      <td>64.3</td>\n",
       "    </tr>\n",
       "  </tbody>\n",
       "</table>\n",
       "</div>"
      ],
      "text/plain": [
       "   Person  gender  Age  Height  pre.weight     Diet  weight6weeks\n",
       "0      25       0   41     171          60   Diet 1          60.0\n",
       "1      26       0   32     174         103   Diet 1         103.0\n",
       "2       1       0   22     159          58  No Diet          57.7\n",
       "3       2       0   46     192          60  No Diet          59.4\n",
       "4       3       0   55     170          64  No Diet          64.3"
      ]
     },
     "execution_count": 26,
     "metadata": {},
     "output_type": "execute_result"
    }
   ],
   "source": [
    "foodDiet=pd.read_csv(r\"Data/foodDiet.csv\")\n",
    "print(foodDiet[\"Diet\"].value_counts())             # split the dataset to be control , treatment 1 , treatment 2  groups\n",
    "foodDiet['Diet'] = foodDiet['Diet'].map({\n",
    "    1: 'No Diet',\n",
    "    2: 'Diet 1',\n",
    "    3: 'Diet 2'\n",
    "})\n",
    "foodDiet.head()"
   ]
  },
  {
   "cell_type": "markdown",
   "id": "36f17ee3-0168-44d7-8ef0-7a6350cb9085",
   "metadata": {},
   "source": [
    "# Univariate hypothesis testing\n",
    "Univariate hypothesis testing means testing a claim (hypothesis) about one single variable — one feature or measurement from your dataset.  \n",
    "In geneal , You’re testing whether the mean (or another statistic) of one variable equals a fixed/reference value.  \n",
    "EX : “The average height of people in this dataset is equal to 170 cm.” "
   ]
  },
  {
   "cell_type": "markdown",
   "id": "5d6924d5-0f98-4d4f-a89a-b7ddc9b568b6",
   "metadata": {},
   "source": [
    "## 1. Z test"
   ]
  },
  {
   "cell_type": "markdown",
   "id": "3734b31d-7958-458b-aa4a-5f9e3fd7a6c6",
   "metadata": {},
   "source": [
    "used to decide whether to accept or reject a hypothesis about a population  \n",
    "used when \n",
    "- The sample size is large (n>30)  \n",
    "- The population standard deviation (σ) is known\n",
    "- The data is (approximately) normally distributed\n"
   ]
  },
  {
   "cell_type": "markdown",
   "id": "cdd79265-3f8c-4eae-96ec-097d113f7ee0",
   "metadata": {},
   "source": [
    "Example :\n",
    "We want to test whether the average passenger age on the Titanic equals 30 years.  \n",
    "(H₀): μ = 30  \n",
    "(H₁): μ ≠ 30  \n",
    "this is two tailed univariante z test  .. No critical case to determine α so set it as 0.05  \n"
   ]
  },
  {
   "cell_type": "code",
   "execution_count": 27,
   "id": "c858fc0e-a1e7-4830-874a-b3031e2482f6",
   "metadata": {},
   "outputs": [
    {
     "name": "stdout",
     "output_type": "stream",
     "text": [
      "Fail to reject H₀ → No significant evidence that the mean age ≠ 30.\n"
     ]
    }
   ],
   "source": [
    "from statsmodels.stats.weightstats import ztest\n",
    "import numpy as np\n",
    "z_stat , p_value_ztest = ztest(titanic['age'] , value=30 , alternative = \"two-sided\")\n",
    "if p_value_ztest < 0.05:\n",
    "    print(\"Reject H₀ → The mean passenger age is significantly different from 30.\")\n",
    "else:\n",
    "    print(\"Fail to reject H₀ → No significant evidence that the mean age ≠ 30.\")"
   ]
  },
  {
   "cell_type": "code",
   "execution_count": null,
   "id": "1209584b-f753-46dd-8195-e8d99d0bd9be",
   "metadata": {},
   "outputs": [],
   "source": []
  },
  {
   "cell_type": "markdown",
   "id": "9d8a5d2c-cfb1-4ccd-af1a-d7e47cc7e133",
   "metadata": {},
   "source": [
    "---"
   ]
  },
  {
   "cell_type": "code",
   "execution_count": null,
   "id": "e1b7dc67-a4ba-4d0b-906d-0a6134f88230",
   "metadata": {},
   "outputs": [],
   "source": []
  },
  {
   "cell_type": "markdown",
   "id": "4065c7c4-1ee7-438d-bbcb-084035b491c9",
   "metadata": {},
   "source": [
    "## 2. T test"
   ]
  },
  {
   "cell_type": "markdown",
   "id": "eb81e827-6519-40a2-a49b-4c75a4b7cd7d",
   "metadata": {},
   "source": [
    "A T-test is a statistical test used to accept hypothesis about population mean .  \n",
    "used when:\n",
    "- the sample size is small (n<30)\n",
    "- especially when the population standard deviation (σ) is unknown.\n"
   ]
  },
  {
   "cell_type": "markdown",
   "id": "9930cf11-df0c-4ac5-963d-1a1e73fc91ff",
   "metadata": {},
   "source": [
    "Example :\n",
    "We have 20 observation about the age and want to test whether the average passenger age on the Titanic equals 30 years.  \n",
    "(H₀): μ = 30  \n",
    "(H₁): μ ≠ 30  \n",
    "this is two tailed univariante T test  .. No critical case to determine α so set it as 0.05  "
   ]
  },
  {
   "cell_type": "code",
   "execution_count": 28,
   "id": "51ddeaec-3c4b-4982-800d-ee74879669a2",
   "metadata": {},
   "outputs": [
    {
     "name": "stdout",
     "output_type": "stream",
     "text": [
      "Fail to reject H₀ → No significant evidence that the mean age ≠ 30.\n"
     ]
    }
   ],
   "source": [
    "from scipy import stats\n",
    "\n",
    "t_stat , p_value_ttest = stats.ttest_1samp(titanic['age'].sample(20) , popmean=30)\n",
    "if p_value_ttest < 0.05:\n",
    "    print(\"Reject H₀ → The mean passenger age is significantly different from 30.\")\n",
    "else:\n",
    "    print(\"Fail to reject H₀ → No significant evidence that the mean age ≠ 30.\")"
   ]
  },
  {
   "cell_type": "code",
   "execution_count": 29,
   "id": "b60ca8ff-c9c5-4ee5-a595-a41654b16409",
   "metadata": {},
   "outputs": [
    {
     "name": "stdout",
     "output_type": "stream",
     "text": [
      "Fail to reject H₀ → No significant evidence that the mean age > 30.\n"
     ]
    }
   ],
   "source": [
    "# note that : scipy.stats.ttest always assume two sided => if your hypothesis test is 1 sided divide pvalue/2 and consider t_critical direction\n",
    "# Example : if our hypothesis was H0: μ <= 30 & H1: μ > 30 ==> right tail univariante t test\n",
    "\n",
    "if t_stat  > 0:\n",
    "    if p_value_ttest/2 < 0.05:\n",
    "        print(\"Reject H₀ → The mean passenger age is significantly > 30.\")\n",
    "    else:\n",
    "        print(\"Fail to reject H₀ → No significant evidence that the mean age > 30.\")    \n",
    "else:\n",
    "    print(\"Fail to reject H₀ → No significant evidence that the mean age > 30.\")    "
   ]
  },
  {
   "cell_type": "code",
   "execution_count": null,
   "id": "2106cff2-7a5b-4200-9b46-5f197f92de5d",
   "metadata": {},
   "outputs": [],
   "source": []
  },
  {
   "cell_type": "code",
   "execution_count": null,
   "id": "adc7c487-a419-43f2-8227-8175e434396d",
   "metadata": {},
   "outputs": [],
   "source": []
  },
  {
   "cell_type": "markdown",
   "id": "403cfa4f-72eb-4439-8502-abc1e57793c3",
   "metadata": {},
   "source": [
    "---\n",
    "---"
   ]
  },
  {
   "cell_type": "code",
   "execution_count": null,
   "id": "e6804a39-ca99-4cf7-bf2e-a439155ddfe6",
   "metadata": {},
   "outputs": [],
   "source": []
  },
  {
   "cell_type": "code",
   "execution_count": null,
   "id": "f6f3045c-2d0c-454a-8042-7fea12572795",
   "metadata": {},
   "outputs": [],
   "source": []
  },
  {
   "cell_type": "markdown",
   "id": "197f5d60-568a-4ec8-af62-3ccb620a91fa",
   "metadata": {},
   "source": [
    "# Multivariate hypothesis testing\n",
    "Bivariate hypothesis testing means testing a claim (hypothesis) about two or more variables — one or more dependent and one independent    \n",
    "in General .. You test whether one variable affects or is related to another.  \n",
    "EX : test whether the gender affected survival in titanic.  "
   ]
  },
  {
   "cell_type": "markdown",
   "id": "8ccd2566-3577-41b3-85dd-57a9ba11b711",
   "metadata": {},
   "source": [
    "## 1. Independent Comparing Means"
   ]
  },
  {
   "cell_type": "markdown",
   "id": "89930f12-d2a8-4bef-b96c-17d671753878",
   "metadata": {},
   "source": [
    "This type of test checks whether the mean (average) of one group is significantly different from another group’s mean   \n",
    "useful to determine if the dependent factor to split group 1 and 2 affects the independent one?     \n",
    "when to use it : categorical variable --affecting--> continuous variable .  \n",
    "Ex : Diet class --affecting-->how much weight loss after the experiment"
   ]
  },
  {
   "cell_type": "markdown",
   "id": "cc60c6c9-701a-4885-88a7-93d73dd83b8a",
   "metadata": {},
   "source": [
    "#### types : "
   ]
  },
  {
   "cell_type": "markdown",
   "id": "c338042c-c92c-4e1b-aa76-2fb7d6e508a6",
   "metadata": {},
   "source": [
    "##### A . two categories in the independent group (No diet , Diet)   \n",
    "can be solved using Z or T test (recommended) And Anova test  "
   ]
  },
  {
   "cell_type": "code",
   "execution_count": 30,
   "id": "7898c4f9-f6d2-4e12-90cf-f937c58be87d",
   "metadata": {},
   "outputs": [
    {
     "name": "stdout",
     "output_type": "stream",
     "text": [
      "\n",
      "T-statistic: 7.046123329159807\n",
      "P-value: 3.5939752419739576e-10 4\n",
      "Reject H0 → The diet is effective \n"
     ]
    }
   ],
   "source": [
    "from scipy.stats import ttest_ind , f_oneway\n",
    "\n",
    "#---------------------------question------------------#\n",
    "# We want to test whether the diet 1 group differ from no diet goup in their average weight loss. (efficent or just placebo effect)  \n",
    "# H0 : μ diet[\"weight_loss\"] <= μ no_diet[\"weight_loss\"]  - - - > no or bad differenece   \n",
    "# H1 : μ diet[\"weight_loss\"]  > μ no_diet[\"weight_loss\"]\n",
    "#----------------------------steps--------------------#  \n",
    "\n",
    "\n",
    "\n",
    "# Split data into two groups (Diet = Yes, No)\n",
    "foodDiet[\"weight_loss\"] = foodDiet[\"pre.weight\"] - foodDiet[\"weight6weeks\"]\n",
    "No_diet = foodDiet[foodDiet['Diet'] == \"No Diet\"][\"weight_loss\"]\n",
    "Diet = foodDiet[foodDiet['Diet'] != \"No Diet\"][\"weight_loss\"]\n",
    "\n",
    "\n",
    "# run z-test (large sample, known σ) - else T test ---> (T test gives the same result as Z test at large samples as their distibutions looks the same )\n",
    "t_stat, p_value = ttest_ind(Diet, No_diet, equal_var=True, alternative='greater')\n",
    "print(\"\\nT-statistic:\", t_stat)\n",
    "print(\"P-value:\", p_value, 4)\n",
    "\n",
    "\n",
    "# Interpret p-value\n",
    "alpha = 0.05\n",
    "if p_value < alpha:\n",
    "    print(\"Reject H0 → The diet is effective \")\n",
    "else:\n",
    "    print(\"Fail to reject H0 → No significant effect \")"
   ]
  },
  {
   "cell_type": "markdown",
   "id": "d5fd0993-9964-49cf-822c-09f56fab4a78",
   "metadata": {},
   "source": [
    "---"
   ]
  },
  {
   "cell_type": "markdown",
   "id": "0335c41f-af5b-4e90-8760-47fabdcc90d9",
   "metadata": {},
   "source": [
    "##### B . more than two categories in the independent group (No diet , Diet 1 , Diet 2)   \n",
    "can be solved using only Anova test "
   ]
  },
  {
   "cell_type": "markdown",
   "id": "185dd4d0-acf1-453d-be1c-b1c7f6d4ad40",
   "metadata": {},
   "source": [
    "##### Anova Algorighim\n",
    "the propotion of the variance between groups and the varience within the groups   \n",
    "$$\n",
    "F value = \\frac{SSB}{SSW}\n",
    "$$\n",
    "if this proportion is lage => there is diffirence between means of each group with small varience within the group and vica versa\n",
    "<img src=\"Data/foneway.png\" width=500px>"
   ]
  },
  {
   "cell_type": "code",
   "execution_count": 31,
   "id": "d4c826e1-fa9e-407b-a768-615ee1641a81",
   "metadata": {},
   "outputs": [
    {
     "name": "stdout",
     "output_type": "stream",
     "text": [
      "\n",
      "F-statistic: 7.046123329159807\n",
      "F-value: 3.5939752419739576e-10\n",
      "Reject H0 → At least one diet group differs in weight loss.\n"
     ]
    }
   ],
   "source": [
    "#---------------------------question------------------#\n",
    "# We want to test whether the diet groups differ in their average weight loss.\n",
    "# H0 : μ Diet_2[\"weight_loss\"] = μ Diet_1[\"weight_loss\"] = μ No_diet[\"weight_loss\"]  - - - > no or bad differenece   \n",
    "# H1 : μ No_diet[\"weight_loss\"] != μ Diet_1[\"weight_loss\"] != μ Diet_2[\"weight_loss\"]\n",
    "#----------------------------steps--------------------#  \n",
    "\n",
    "\n",
    "# 1 - Split data into two groups (Diet = No , 1 , 2)\n",
    "foodDiet[\"weight_loss\"] = foodDiet[\"pre.weight\"] - foodDiet[\"weight6weeks\"]\n",
    "No_diet = foodDiet[foodDiet['Diet'] == \"No Diet\"][\"weight_loss\"]\n",
    "Diet_1 = foodDiet[foodDiet['Diet'] != \"Diet 1\"][\"weight_loss\"]\n",
    "Diet_2 = foodDiet[foodDiet['Diet'] != \"Diet 2\"][\"weight_loss\"]\n",
    "\n",
    "\n",
    "# run Anova test\n",
    "F_stat, F_value = f_oneway(No_diet, Diet_1, Diet_2)\n",
    "print(\"\\nF-statistic:\", t_stat) \n",
    "print(\"F-value:\", p_value)\n",
    "\n",
    "\n",
    "# Interpret p-value\n",
    "alpha = 0.05\n",
    "if F_value < alpha:\n",
    "    print(\"Reject H0 → At least one diet group differs in weight loss.\")\n",
    "else:\n",
    "    print(\"Fail to reject H0 → No significant difference between diet groups.\")\n",
    "\n",
    "# to know which group differs -- > use pairwise_tukeyhsd"
   ]
  },
  {
   "cell_type": "code",
   "execution_count": null,
   "id": "9864a598-ded9-4aa6-9664-27f22b1a5241",
   "metadata": {},
   "outputs": [],
   "source": []
  },
  {
   "cell_type": "markdown",
   "id": "367ee674-d3b5-4f17-b0a2-2958b297fba8",
   "metadata": {},
   "source": [
    "---"
   ]
  },
  {
   "cell_type": "code",
   "execution_count": null,
   "id": "610a5e0f-9a9f-469f-b78c-f81a73114667",
   "metadata": {},
   "outputs": [],
   "source": []
  },
  {
   "cell_type": "markdown",
   "id": "3e5b5816-a45a-4379-a50e-44d23eb7f1b1",
   "metadata": {},
   "source": [
    "##### c . two independent groups affecting mean (group1 : No diet , Diet 1 , Diet 2  , Gender : male , female)   \n",
    "can be solved with twoway anova"
   ]
  },
  {
   "cell_type": "code",
   "execution_count": 44,
   "id": "d6efef14-4590-4d88-b44d-4fed6444ca19",
   "metadata": {},
   "outputs": [
    {
     "name": "stdout",
     "output_type": "stream",
     "text": [
      "                       sum_sq    df          F        PR(>F)\n",
      "C(Diet)            313.061753   2.0  39.397678  2.766962e-12\n",
      "C(gender)            0.112393   1.0   0.028289  8.669038e-01\n",
      "C(Diet):C(gender)   39.789983   2.0   5.007424  9.201114e-03\n",
      "Residual           286.063133  72.0        NaN           NaN\n"
     ]
    },
    {
     "data": {
      "image/png": "[encoded data removed]",
      "text/plain": [
       "<Figure size 640x480 with 1 Axes>"
      ]
     },
     "metadata": {},
     "output_type": "display_data"
    }
   ],
   "source": [
    "#---------------------------question------------------#\n",
    "# We want to test whether the diet groups differ in their average weight loss and the gender dependency on the affectivity of the diet .\n",
    "# H0 : μ (each diet , both genders)[\"weight_loss\"]  => equaly likely\n",
    "# H1 : μ (each diet , both genders)[\"weight_loss\"]  => not equaly likely\n",
    "#----------------------------steps--------------------#  \n",
    "\n",
    "import seaborn as sns\n",
    "import matplotlib.pyplot as plt\n",
    "from statsmodels.formula.api import ols\n",
    "import statsmodels.api as sm\n",
    "\n",
    "model = ols('weight_loss ~ C(Diet) + C(gender) + C(Diet):C(gender)', data=foodDiet).fit()\n",
    "anova_table = sm.stats.anova_lm(model, typ=2)\n",
    "print(anova_table)\n",
    "\n",
    "\n",
    "sns.barplot(x='Diet', y='weight_loss', hue='gender', data=foodDiet, errorbar=None)\n",
    "plt.title(\"Interaction between Diet and Gender on Weight Loss\")\n",
    "plt.show()"
   ]
  },
  {
   "cell_type": "markdown",
   "id": "bfb9b420-195d-489d-aa1a-5f94a5e413ac",
   "metadata": {},
   "source": [
    "Conlusion :\n",
    "- Diet effect: There are strong differences in weight loss among the diet groups.\n",
    "- Gender effect: On average, males and females lose a similar amount of weight.\n",
    "- Interaction effect: The effectiveness of a diet varies by gender — e.g., Diet 1 might work better for males, while Diet 2 might work better for females."
   ]
  },
  {
   "cell_type": "code",
   "execution_count": null,
   "id": "b7471413-1fe2-40d2-a634-1b46372bcb24",
   "metadata": {},
   "outputs": [],
   "source": []
  },
  {
   "cell_type": "code",
   "execution_count": null,
   "id": "df44f98b-17e3-488d-9209-bd43219f4b22",
   "metadata": {},
   "outputs": [],
   "source": []
  },
  {
   "cell_type": "markdown",
   "id": "78a3a05d-3c5f-45db-801a-69ea6494fa06",
   "metadata": {},
   "source": [
    "---"
   ]
  },
  {
   "cell_type": "markdown",
   "id": "b842befd-6b82-4221-b22b-fbe0b6dd57b5",
   "metadata": {},
   "source": [
    "---"
   ]
  },
  {
   "cell_type": "code",
   "execution_count": null,
   "id": "4d35c5e1-be03-4d51-b65e-790859e61260",
   "metadata": {},
   "outputs": [],
   "source": []
  },
  {
   "cell_type": "code",
   "execution_count": null,
   "id": "3505c02b-a9f1-4bc6-bbee-0c6bdff9c6be",
   "metadata": {},
   "outputs": [],
   "source": []
  },
  {
   "cell_type": "markdown",
   "id": "29dd2eec-7a7c-47a4-b3f6-0c73e5557461",
   "metadata": {},
   "source": [
    "## 2. Independent Comparing proportions"
   ]
  },
  {
   "cell_type": "markdown",
   "id": "0efb0888-60f7-4b68-97a2-c97b9dbd401b",
   "metadata": {},
   "source": [
    "You have two independent groups (e.g., Male vs Female) And you want to compare the proportion of a certain event (e.g., survival, success) between the groups  \n",
    "measures whether a categorical factor (independent variable) has a statistically significant effect on Categorical outcome (dependent variable).   \n",
    "Categorical --affects-->categorical  \n",
    "\n"
   ]
  },
  {
   "cell_type": "markdown",
   "id": "dc030bbb-a54f-46cd-bbc8-1e652b1548c8",
   "metadata": {},
   "source": [
    "#### types : "
   ]
  },
  {
   "cell_type": "markdown",
   "id": "6ee55a11-95a1-44e5-a5ed-6022a31efff4",
   "metadata": {},
   "source": [
    "##### A . two categories in the independent group (Male , Female)   \n",
    "can be solved using Z proportion (recommended) And chi square test  "
   ]
  },
  {
   "cell_type": "code",
   "execution_count": 34,
   "id": "f2e709ca-bab5-47c1-b4ff-97f6c87ba5b4",
   "metadata": {},
   "outputs": [
    {
     "name": "stdout",
     "output_type": "stream",
     "text": [
      "\n",
      "T-statistic: -14.397839284313724\n",
      "P-value: 5.338660099205136e-47\n",
      "Reject H0 → Gender significantly affects survival\n"
     ]
    }
   ],
   "source": [
    "from statsmodels.stats.proportion import proportions_ztest\n",
    "\n",
    "#---------------------------question------------------#\n",
    "# We want to test whether the gender of the passenger affected it's survival chance in the titanic tragedy  \n",
    "# H0 : p(survived|male) = p(survived|Female)  - - - > they both had the same chances\n",
    "# H0 : p(survived|male) = p(survived|Female)   \n",
    "#----------------------------steps--------------------#  \n",
    "\n",
    "\n",
    "\n",
    "# Split data into two groups (Male , Female)\n",
    "titanic['alive_enc'] = titanic['alive'].map({'no':0, 'yes':1})\n",
    "Males = titanic[titanic['sex'] == \"male\"][\"alive_enc\"]\n",
    "Females = titanic[titanic['sex'] == \"female\"][\"alive_enc\"]\n",
    "\n",
    "\n",
    "# run z- proportion test \n",
    "t_stat, p_value = proportions_ztest([Males.sum(), Females.sum()],[Males.count(), Females.count()] , alternative='two-sided')  #alive - total\n",
    "print(\"\\nT-statistic:\", t_stat)\n",
    "print(\"P-value:\", p_value)\n",
    "\n",
    "\n",
    "# Interpret p-value\n",
    "alpha = 0.05\n",
    "if p_value < alpha:\n",
    "    print(\"Reject H0 → Gender significantly affects survival\")\n",
    "else:\n",
    "    print(\"Fail to reject H0 → No significant effect of Gender on survival\")"
   ]
  },
  {
   "cell_type": "code",
   "execution_count": 35,
   "id": "a78349f6-f17c-424b-8d93-853a24ec4744",
   "metadata": {},
   "outputs": [],
   "source": [
    "# T statistic << 0 soo the rate of survival was in good of Females which proves (Women and children first)"
   ]
  },
  {
   "cell_type": "markdown",
   "id": "c06880c0-0446-4c50-ab38-cfb586a427c8",
   "metadata": {},
   "source": [
    "---"
   ]
  },
  {
   "cell_type": "markdown",
   "id": "e67dfb70-cb10-44b3-b55c-79bf5894e87d",
   "metadata": {},
   "source": [
    "##### B . More than two categories in the independent group (Pclass) ---> homogeneity of propotions   \n",
    "can be solved using only chi square test  "
   ]
  },
  {
   "cell_type": "markdown",
   "id": "57b4ccc0-6cbb-4c03-a068-22ba59aab6ad",
   "metadata": {},
   "source": [
    "##### chi square Test of Independence \n",
    "sense if there a diffirence between observed and expected frequency :-\n",
    "$$\n",
    "\\chi^2 = \\sum \\frac{(O - E)^2}{E}\n",
    "$$\n",
    "If Observed ≈ Expected in every cell → likely independence   \n",
    "If Observed is very different from Expected in some cells → contributes to a large χ² → small p-value → reject H₀   \n"
   ]
  },
  {
   "cell_type": "code",
   "execution_count": 36,
   "id": "cddd063e-c24e-41d4-9df0-fbd280107fd3",
   "metadata": {},
   "outputs": [
    {
     "name": "stdout",
     "output_type": "stream",
     "text": [
      "\n",
      "T-statistic: -14.397839284313724\n",
      "P-value: 6.709861749756909e-21\n",
      "expected:\n",
      " [[110.45378151  75.54621849]\n",
      " [102.73389356  70.26610644]\n",
      " [210.81232493 144.18767507]]\n",
      "observed:\n",
      " alive_enc    0    1\n",
      "pclass             \n",
      "1           64  122\n",
      "2           90   83\n",
      "3          270   85\n",
      "Reject H0 → Pclass significantly affects survival\n"
     ]
    }
   ],
   "source": [
    "from scipy.stats import chi2_contingency \n",
    "\n",
    "#---------------------------question------------------#\n",
    "# We want to test whether the class of the passenger affected it's survival chance in the titanic tragedy  \n",
    "# H0 : p(survived|class 1) = p(survived|class 2) = p(survived|class 3)  - - - > they both had the same chances\n",
    "# H0 : p(survived|class 1) != p(survived|class 2) !=p(survived|class 3) \n",
    "#----------------------------steps--------------------#  \n",
    "\n",
    "\n",
    "\n",
    "# make contingency table to prepare for calculating proportion of each class and it's survival rate\n",
    "contingency = pd.crosstab(titanic['pclass'], titanic['alive_enc'])\n",
    "# run chisquare test \n",
    "chi2_stat, p_value, dof, expected = chi2_contingency(contingency)\n",
    "print(\"\\nT-statistic:\", t_stat)\n",
    "print(\"P-value:\", p_value)\n",
    "print(\"expected:\\n\", expected)\n",
    "print(\"observed:\\n\", contingency)\n",
    "\n",
    "\n",
    "\n",
    "\n",
    "# Interpret p-value\n",
    "alpha = 0.05\n",
    "if p_value < alpha:\n",
    "    print(\"Reject H0 → Pclass significantly affects survival\")\n",
    "else:\n",
    "    print(\"Fail to reject H0 → No significant effect of Pclass on survival\")"
   ]
  },
  {
   "cell_type": "code",
   "execution_count": 37,
   "id": "b6fbbc19-f558-45aa-94fb-a0149ea4aea0",
   "metadata": {},
   "outputs": [
    {
     "data": {
      "text/plain": [
       "<seaborn.axisgrid.FacetGrid at 0x218dd25af90>"
      ]
     },
     "execution_count": 37,
     "metadata": {},
     "output_type": "execute_result"
    },
    {
     "data": {
      "image/png": "[encoded data removed]",
      "text/plain": [
       "<Figure size 1091.88x500 with 2 Axes>"
      ]
     },
     "metadata": {},
     "output_type": "display_data"
    }
   ],
   "source": [
    "#explanation for above\n",
    "sns.catplot(x='class', hue='sex', col='survived', data=titanic, kind='count', palette='muted')"
   ]
  },
  {
   "cell_type": "code",
   "execution_count": null,
   "id": "181c97e4-6f9d-4c4a-98a0-9ff769cb5a78",
   "metadata": {},
   "outputs": [],
   "source": []
  },
  {
   "cell_type": "markdown",
   "id": "8cf7b4d3-5d55-437f-aaf9-7362bf9d6a39",
   "metadata": {},
   "source": [
    "---"
   ]
  },
  {
   "cell_type": "markdown",
   "id": "cb834e61-4e85-405f-87a7-a167493723a3",
   "metadata": {},
   "source": [
    "----"
   ]
  },
  {
   "cell_type": "code",
   "execution_count": null,
   "id": "18aa8cbd-b23e-46ec-8fed-1e310582c2de",
   "metadata": {},
   "outputs": [],
   "source": []
  },
  {
   "cell_type": "markdown",
   "id": "21eb897b-99ec-44e5-9260-99e441ba10a2",
   "metadata": {},
   "source": [
    "## 3.paired comparing means  "
   ]
  },
  {
   "cell_type": "markdown",
   "id": "8b087e17-6a02-4048-8e53-78f88f88b414",
   "metadata": {},
   "source": [
    "A dependent comparing means test checks whether the same group has different means under two related conditions    \n",
    "Ex: for example, before and after some treatment, training, or event. (the hypothesis here is whether there is diffirence between before and after treatment)    \n",
    "\n",
    "can be solved using ttest_rel"
   ]
  },
  {
   "cell_type": "code",
   "execution_count": 38,
   "id": "fd1f2cb6-7567-4644-b6d7-cf2776df62b6",
   "metadata": {},
   "outputs": [
    {
     "name": "stdout",
     "output_type": "stream",
     "text": [
      "❌ The diet type \"No Diet\" (p = 0.10057777419513692) has **no significant effect**.\n",
      "Average weight before: 72.88  \n",
      "Average weight after : 72.69  \n",
      "Mean reduction       : 0.19  \n",
      "No statistically significant change detected.\n",
      "\n",
      "-------------------------------------------\n",
      "\n",
      "✅ The diet type \"Diet 1\" (p = 6.801939123220201e-07) is **effective**.\n",
      "Average weight before: 71.11  \n",
      "Average weight after : 68.09  \n",
      "Mean reduction       : 3.03  \n",
      "There is a significant improvement after following this diet.\n",
      "\n",
      "-------------------------------------------\n",
      "\n",
      "✅ The diet type \"Diet 2\" (p = 1.015229444873616e-11) is **effective**.\n",
      "Average weight before: 73.63  \n",
      "Average weight after : 68.48  \n",
      "Mean reduction       : 5.15  \n",
      "There is a significant improvement after following this diet.\n",
      "\n",
      "-------------------------------------------\n",
      "\n"
     ]
    }
   ],
   "source": [
    "from scipy.stats import ttest_rel\n",
    "\n",
    "#---------------------------question------------------#\n",
    "# We want to test whether diet 1 is efficent or not , so for diet 2 and 3\n",
    "#for Diet n\n",
    "# H0 : m(pre.weight) <= p(weight6week)   - - - > no difference or worse\n",
    "# H1 : m(pre.weight) > p(weight6week)\n",
    "#----------------------------steps--------------------#  \n",
    "\n",
    "checks = [\"No Diet\",\"Diet 1\" , \"Diet 2\"]\n",
    "for diet in checks:\n",
    "    before = foodDiet[foodDiet['Diet'] == diet][\"pre.weight\"]\n",
    "    after = foodDiet[foodDiet['Diet'] == diet][\"weight6weeks\"]\n",
    "    T_stat , p_value  = ttest_rel(before , after , alternative='greater')\n",
    "    mean_diff = before.mean() - after.mean()\n",
    "\n",
    "    if p_value  < 0.05:\n",
    "        print(f'''✅ The diet type \"{diet}\" (p = {p_value}) is **effective**.\n",
    "Average weight before: {before.mean():.2f}  \n",
    "Average weight after : {after.mean():.2f}  \n",
    "Mean reduction       : {mean_diff:.2f}  \n",
    "There is a significant improvement after following this diet.''')\n",
    "    else:\n",
    "        print(f'''❌ The diet type \"{diet}\" (p = {p_value}) has **no significant effect**.\n",
    "Average weight before: {before.mean():.2f}  \n",
    "Average weight after : {after.mean():.2f}  \n",
    "Mean reduction       : {mean_diff:.2f}  \n",
    "No statistically significant change detected.''')\n",
    "\n",
    "    print('\\n-------------------------------------------\\n')"
   ]
  },
  {
   "cell_type": "markdown",
   "id": "9dab7f2c-1b24-48f3-af25-1c5db07a1ad9",
   "metadata": {},
   "source": [
    "#### 🧠 Main Difference Between Paired t-test and Independent t-test\n",
    "Paired t-test → compares the same group at two different times (e.g., before and after training) to check if effective or not.   \n",
    "Independent t-test → compares two different groups to see which one performs better."
   ]
  },
  {
   "cell_type": "code",
   "execution_count": null,
   "id": "6a70bef6-2fa7-4757-8cd3-6ee0764cce21",
   "metadata": {},
   "outputs": [],
   "source": []
  },
  {
   "cell_type": "code",
   "execution_count": null,
   "id": "f04b09a4-1109-4088-94aa-fd3d541d4cf4",
   "metadata": {},
   "outputs": [],
   "source": []
  },
  {
   "cell_type": "markdown",
   "id": "31ba0de8-ed81-4c5d-9c46-15bf27c169aa",
   "metadata": {},
   "source": [
    "---"
   ]
  },
  {
   "cell_type": "markdown",
   "id": "76ee2726-3bde-40e9-9259-5d01c571bb17",
   "metadata": {},
   "source": [
    "----"
   ]
  },
  {
   "cell_type": "markdown",
   "id": "935102ef-92f2-4751-a580-c4d2baa607ca",
   "metadata": {},
   "source": [
    "## 4.Goodness of Fit test"
   ]
  },
  {
   "cell_type": "markdown",
   "id": "76f242ee-ee0f-450c-b476-1ac0befea12d",
   "metadata": {},
   "source": [
    "The Goodness of Fit test checks how well observed data matches an expected distribution.   \n",
    "Ex : A fair dice is rolled 60 times => the expected count are 10's but as a sample it can have some acceptable errors      \n",
    "The Goodness of Fit test checks if these errors can be explained by random chance or if they are too large to occur randomly.”   \n",
    "\n",
    "can be solved with Chi-Square Goodness of Fit test (χ² test)    \n",
    "the same idea as chi square indepence test (expected vs observed)"
   ]
  },
  {
   "cell_type": "code",
   "execution_count": 39,
   "id": "bd0a54a2-c26f-4747-9b5c-b132cf2aa1bf",
   "metadata": {},
   "outputs": [
    {
     "name": "stdout",
     "output_type": "stream",
     "text": [
      "Observed: [ 74 185 223 148  95  75]\n",
      "Expected: [133.33 133.33 133.33 133.33 133.33 133.33]\n",
      "\n",
      "Chi-square statistic = 144.880\n",
      "P-value = 1.6405920189457188e-29\n",
      "\n",
      "Reject H0 : they don't follow uniform distribution\n"
     ]
    }
   ],
   "source": [
    "from scipy.stats import chisquare, chi2\n",
    "\n",
    "#---------------------------question------------------#\n",
    "# A factory produces t-shirts in sizes S --> 3XL  and wants to calculate proportion of t-shirt he will produce for each size\n",
    "# the process of analysis combined observing 800 person and noting their preffered sizes and it was : \n",
    "observed_counts = np.array([74,185,223,148,95,75])\n",
    "# they want to check if their sizes are following uniform distribution\n",
    "# H0 : follows uniform distribution\n",
    "# H1 : don't\n",
    "#----------------------------solution--------------------#  \n",
    "chi_stat, p_value = chisquare(f_obs=observed_counts )    # default expected is uniform\n",
    "print(\"Observed:\", observed_counts)\n",
    "print(\"Expected:\", np.round(800 / 6 * np.ones(6),2) )\n",
    "print(f\"\\nChi-square statistic = {chi_stat:.3f}\")\n",
    "print(f\"P-value = {p_value}\")\n",
    "if p_value<0.05:\n",
    "    print (\"\\nReject H0 : they don't follow uniform distribution\")"
   ]
  },
  {
   "cell_type": "code",
   "execution_count": null,
   "id": "b565ef42-9bc5-4bb6-a635-73206e40abfd",
   "metadata": {},
   "outputs": [],
   "source": []
  },
  {
   "cell_type": "code",
   "execution_count": 40,
   "id": "2f6b222c-536d-4026-8af8-3a5ad2211b6c",
   "metadata": {},
   "outputs": [
    {
     "name": "stdout",
     "output_type": "stream",
     "text": [
      "Observed: [18 25 17]\n",
      "Expected: [20. 20. 20.]\n",
      "\n",
      "Chi-square statistic = 1.900\n",
      "P-value = 0.38674102345450123\n",
      "\n",
      " Don't Reject H0 : they do follow uniform distribution , we should produce them the same amount\n"
     ]
    }
   ],
   "source": [
    "#---------------------------question 2 ------------------#\n",
    "# A factory for dogs' food is wondering whick flavour do dogs like the most\n",
    "# the process of analysis combined observing 60 dogs and noting their preffered flavours and it was : \n",
    "observed_counts = np.array([18,25,17])\n",
    "# the sales man said flavour 2 had the most votes among the dogs so we gotta mass produce it and neglect two others but the data analytic said :\n",
    "# H0 : follows uniform distribution\n",
    "# H1 : don't\n",
    "#----------------------------solution--------------------#  \n",
    "chi_stat, p_value = chisquare(f_obs=observed_counts )    # default expected is uniform\n",
    "print(\"Observed:\", observed_counts)\n",
    "print(\"Expected:\", np.round(60 / 3 * np.ones(3),2) )\n",
    "print(f\"\\nChi-square statistic = {chi_stat:.3f}\")\n",
    "print(f\"P-value = {p_value}\")\n",
    "if p_value<0.05:\n",
    "    print (\"\\nReject H0 : they don't follow uniform distribution\")\n",
    "else:\n",
    "    print (\"\\n Don't Reject H0 : they do follow uniform distribution , we should produce them the same amount\")"
   ]
  },
  {
   "cell_type": "code",
   "execution_count": null,
   "id": "98094df4-64b7-4363-82bc-3f938faff20f",
   "metadata": {},
   "outputs": [],
   "source": []
  },
  {
   "cell_type": "code",
   "execution_count": null,
   "id": "41e35500-7704-4eb8-8520-c17f84b45e43",
   "metadata": {},
   "outputs": [],
   "source": []
  },
  {
   "cell_type": "markdown",
   "id": "860cf9b3-9594-4191-9dbb-094b55e862a8",
   "metadata": {},
   "source": [
    "---"
   ]
  },
  {
   "cell_type": "markdown",
   "id": "bf542248-61c5-4eb4-b4c0-90fed213cec8",
   "metadata": {},
   "source": [
    "---"
   ]
  },
  {
   "cell_type": "markdown",
   "id": "bd8ab8ab-fcb5-4ac9-aba0-c69f82165932",
   "metadata": {},
   "source": [
    "## 5.Correlation test"
   ]
  },
  {
   "cell_type": "markdown",
   "id": "3dfe41ea-5c7c-4a5d-b822-eb7e7563b1ce",
   "metadata": {},
   "source": [
    "Correlation is a measure of the strength and direction of the relationship between two variables.   \n",
    "It answers questions like: is there a relation between X and Y and how strong is it .. what is it's direction   \n",
    "used when : Continous Variable --and-->  Continous variable   \n",
    "EX : houses area --> house price\n",
    "\n",
    "##### note\n",
    "correlation doesn't mean causation -> X doesn't neccessarily affects Y or the cause of it happening        \n",
    "correlation explains how they vary aganist each other    \n",
    "EX : third variable problem (there is 3rd variable which is the cause of the 1st and 2nd variables )"
   ]
  },
  {
   "cell_type": "code",
   "execution_count": 41,
   "id": "00aad927-db73-40a2-a57e-7052ca71083b",
   "metadata": {},
   "outputs": [
    {
     "data": {
      "text/plain": [
       "array([[1.        , 0.99703824],\n",
       "       [0.99703824, 1.        ]])"
      ]
     },
     "execution_count": 41,
     "metadata": {},
     "output_type": "execute_result"
    },
    {
     "data": {
      "image/png": "[encoded data removed]",
      "text/plain": [
       "<Figure size 640x480 with 1 Axes>"
      ]
     },
     "metadata": {},
     "output_type": "display_data"
    }
   ],
   "source": [
    "from scipy.stats import pearsonr\n",
    "import matplotlib.pyplot as plt\n",
    "house_area = [50, 60, 70, 80, 90]\n",
    "house_price = [148, 179, 203, 222, 250]\n",
    "plt.scatter(house_area, house_price, color='blue', label='Data points')\n",
    "np.corrcoef(house_area,house_price)      # which implies they have strong positive relationship \n",
    "# correlation coeffecient value varies from -1,1 --> -1 strong nagetive realtionship & 1 strong positive relationship & 0 no realtion between X and Y"
   ]
  },
  {
   "cell_type": "code",
   "execution_count": null,
   "id": "7f4472ab-f2fa-4058-be1a-6b721234eba4",
   "metadata": {},
   "outputs": [],
   "source": []
  },
  {
   "cell_type": "code",
   "execution_count": 42,
   "id": "a58d2af2-4cd0-466b-867e-9a5b4ad7a30d",
   "metadata": {},
   "outputs": [
    {
     "name": "stdout",
     "output_type": "stream",
     "text": [
      "Pearson correlation: 1.00, p-value: 0.000193\n",
      "Significant correlation (r=1.00, p=0.0002) → reject H0\n"
     ]
    }
   ],
   "source": [
    "# to test if the correlation caught in sample is statically significant or Not , use pearsonr test\n",
    "# H0 : no correlation\n",
    "# H1 : there is correlation\n",
    "corr,p_value  = pearsonr(house_area, house_price)\n",
    "print(f\"Pearson correlation: {corr:.2f}, p-value: {p_value:.6f}\")\n",
    "if p_value < alpha:\n",
    "    print(f\"Significant correlation (r={corr:.2f}, p={p_value:.4f}) → reject H0\")\n",
    "else:\n",
    "    print(f\"Not significant (r={corr:.6f}, p={p_value:.6f}) → fail to reject H0\")"
   ]
  },
  {
   "cell_type": "code",
   "execution_count": null,
   "id": "465db152-4c91-48b5-ae2c-1a8165c43cae",
   "metadata": {},
   "outputs": [],
   "source": []
  },
  {
   "cell_type": "code",
   "execution_count": null,
   "id": "187b20b1-0762-4aaf-9772-6dbd1f6b4b8b",
   "metadata": {},
   "outputs": [],
   "source": []
  },
  {
   "cell_type": "code",
   "execution_count": null,
   "id": "5f07dc31-7f20-40ae-8711-67d7df2b1126",
   "metadata": {},
   "outputs": [],
   "source": []
  },
  {
   "cell_type": "code",
   "execution_count": null,
   "id": "f96b19f4-e6f0-41fc-9a8c-7e9d1f533fe1",
   "metadata": {},
   "outputs": [],
   "source": []
  },
  {
   "cell_type": "code",
   "execution_count": null,
   "id": "b60b15ac-aaea-4867-ae07-e9c679acd1d7",
   "metadata": {},
   "outputs": [],
   "source": []
  }
 ],
 "metadata": {
  "kernelspec": {
   "display_name": "Python 3 (ipykernel)",
   "language": "python",
   "name": "python3"
  },
  "language_info": {
   "codemirror_mode": {
    "name": "ipython",
    "version": 3
   },
   "file_extension": ".py",
   "mimetype": "text/x-python",
   "name": "python",
   "nbconvert_exporter": "python",
   "pygments_lexer": "ipython3",
   "version": "3.12.7"
  }
 },
 "nbformat": 4,
 "nbformat_minor": 5
}
